{
 "cells": [
  {
   "cell_type": "code",
   "execution_count": 1,
   "id": "05cec40b-b73e-4aba-ab36-a5552b86d28d",
   "metadata": {},
   "outputs": [],
   "source": [
    "import math\n",
    "def minimax(depth, nodeIndex, isMaximizingPlayer, values, maxDepth):\n",
    "    if depth == maxDepth:\n",
    "        print(f\"Leaf node reached at depth {depth}, returning value: {values[nodeIndex]}\")\n",
    "        return values[nodeIndex]\n",
    "\n",
    "    if isMaximizingPlayer:\n",
    "        best = -math.inf\n",
    "\n",
    "        print(f\"Maximizer at depth {depth}\")\n",
    "\n",
    "        for i in range(2):\n",
    "            value = minimax(depth + 1, nodeIndex * 2 + i, False, values, maxDepth)\n",
    "            print(f\"Maximizer at depth {depth}, comparing value: {value} with best: {best}\")\n",
    "            best = max(best, value)\n",
    "        print(f\"Maximizer at depth {depth}, selected best: {best}\")\n",
    "        return best\n",
    "    else:\n",
    "        best = math.inf\n",
    "\n",
    "        print(f\"Minimizer at depth {depth}\")\n",
    "\n",
    "        for i in range(2):\n",
    "            value = minimax(depth + 1, nodeIndex * 2 + i, True, values, maxDepth)\n",
    "            print(f\"Minimizer at depth {depth}, comparing value: {value} with best: {best}\")\n",
    "            best = min(best, value)\n",
    "        print(f\"Minimizer at depth {depth}, selected best: {best}\")\n",
    "        return best"
   ]
  },
  {
   "cell_type": "code",
   "execution_count": 6,
   "id": "a024d5f1-080d-4263-a82f-95a8f22064f4",
   "metadata": {},
   "outputs": [
    {
     "name": "stdout",
     "output_type": "stream",
     "text": [
      "Maximizer at depth 0\n",
      "Minimizer at depth 1\n",
      "Maximizer at depth 2\n",
      "Leaf node reached at depth 3, returning value: 10\n",
      "Maximizer at depth 2, comparing value: 10 with best: -inf\n",
      "Leaf node reached at depth 3, returning value: 9\n",
      "Maximizer at depth 2, comparing value: 9 with best: 10\n",
      "Maximizer at depth 2, selected best: 10\n",
      "Minimizer at depth 1, comparing value: 10 with best: inf\n",
      "Maximizer at depth 2\n",
      "Leaf node reached at depth 3, returning value: 14\n",
      "Maximizer at depth 2, comparing value: 14 with best: -inf\n",
      "Leaf node reached at depth 3, returning value: 18\n",
      "Maximizer at depth 2, comparing value: 18 with best: 14\n",
      "Maximizer at depth 2, selected best: 18\n",
      "Minimizer at depth 1, comparing value: 18 with best: 10\n",
      "Minimizer at depth 1, selected best: 10\n",
      "Maximizer at depth 0, comparing value: 10 with best: -inf\n",
      "Minimizer at depth 1\n",
      "Maximizer at depth 2\n",
      "Leaf node reached at depth 3, returning value: 5\n",
      "Maximizer at depth 2, comparing value: 5 with best: -inf\n",
      "Leaf node reached at depth 3, returning value: 4\n",
      "Maximizer at depth 2, comparing value: 4 with best: 5\n",
      "Maximizer at depth 2, selected best: 5\n",
      "Minimizer at depth 1, comparing value: 5 with best: inf\n",
      "Maximizer at depth 2\n",
      "Leaf node reached at depth 3, returning value: 50\n",
      "Maximizer at depth 2, comparing value: 50 with best: -inf\n",
      "Leaf node reached at depth 3, returning value: 3\n",
      "Maximizer at depth 2, comparing value: 3 with best: 50\n",
      "Maximizer at depth 2, selected best: 50\n",
      "Minimizer at depth 1, comparing value: 50 with best: 5\n",
      "Minimizer at depth 1, selected best: 5\n",
      "Maximizer at depth 0, comparing value: 5 with best: 10\n",
      "Maximizer at depth 0, selected best: 10\n",
      "\n",
      "The optimal value is: 10\n"
     ]
    }
   ],
   "source": [
    "#the depth of the game\n",
    "maxDepth = 3\n",
    "#leaf-nodevalues\n",
    "#values = [10, 9, 14, 18, 5, 4, 50, 3]\n",
    "values = [-1,4,2,6,-3,-5,0,7]\n",
    "optimalValue = minimax(0, 0, True, values, maxDepth)\n",
    "\n",
    "print(\"\\nThe optimal value is:\", optimalValue)"
   ]
  },
  {
   "cell_type": "code",
   "execution_count": 3,
   "id": "953a680e",
   "metadata": {},
   "outputs": [],
   "source": [
    "def alphabeta(depth, nodeIndex, isMaximizingPlayer, values, maxDepth, alpha, beta):\n",
    "    if depth == maxDepth:\n",
    "        print(f\"Leaf node reached at depth {depth}, returning value: {values[nodeIndex]}\")\n",
    "        return values[nodeIndex]\n",
    "    \n",
    "    if isMaximizingPlayer:\n",
    "        best = -math.inf\n",
    "        \n",
    "        print(f\"Maximizer at depth {depth}, alpha: {alpha}, beta: {beta}\")\n",
    "        for i in range(2):\n",
    "            value = alphabeta(depth + 1, nodeIndex * 2 + i, False, values, maxDepth, alpha, beta)\n",
    "            print(f\"Maximizer at depth {depth}, comparing value: {value} with best: {best}\")\n",
    "            best = max(best, value)\n",
    "            alpha = max(alpha, best)\n",
    "            print(f\"Maximizer updated alpha: {alpha}\")\n",
    "            \n",
    "            if beta <= alpha:\n",
    "                print(f\"Pruning at depth {depth} with alpha: {alpha} and beta: {beta}\")\n",
    "                break\n",
    "        return best\n",
    "    else:\n",
    "        best = math.inf\n",
    "        \n",
    "        print(f\"Minimizer at depth {depth}, alpha: {alpha}, beta: {beta}\")\n",
    "        for i in range(2):\n",
    "            value = alphabeta(depth + 1, nodeIndex * 2 + i, True, values, maxDepth, alpha, beta)\n",
    "            print(f\"Minimizer at depth {depth}, comparing value: {value} with best: {best}\")\n",
    "            best = min(best, value)\n",
    "            beta = min(beta, best)\n",
    "            print(f\"Minimizer updated beta: {beta}\")\n",
    "            \n",
    "            if beta <= alpha:\n",
    "                print(f\"Pruning at depth {depth} with alpha: {alpha} and beta: {beta}\")\n",
    "                break\n",
    "        return best"
   ]
  },
  {
   "cell_type": "code",
   "execution_count": 4,
   "id": "e5cec42f",
   "metadata": {},
   "outputs": [
    {
     "name": "stdout",
     "output_type": "stream",
     "text": [
      "Maximizer at depth 0, alpha: -inf, beta: inf\n",
      "Minimizer at depth 1, alpha: -inf, beta: inf\n",
      "Maximizer at depth 2, alpha: -inf, beta: inf\n",
      "Leaf node reached at depth 3, returning value: -1\n",
      "Maximizer at depth 2, comparing value: -1 with best: -inf\n",
      "Maximizer updated alpha: -1\n",
      "Leaf node reached at depth 3, returning value: 4\n",
      "Maximizer at depth 2, comparing value: 4 with best: -1\n",
      "Maximizer updated alpha: 4\n",
      "Minimizer at depth 1, comparing value: 4 with best: inf\n",
      "Minimizer updated beta: 4\n",
      "Maximizer at depth 2, alpha: -inf, beta: 4\n",
      "Leaf node reached at depth 3, returning value: 2\n",
      "Maximizer at depth 2, comparing value: 2 with best: -inf\n",
      "Maximizer updated alpha: 2\n",
      "Leaf node reached at depth 3, returning value: 6\n",
      "Maximizer at depth 2, comparing value: 6 with best: 2\n",
      "Maximizer updated alpha: 6\n",
      "Pruning at depth 2 with alpha: 6 and beta: 4\n",
      "Minimizer at depth 1, comparing value: 6 with best: 4\n",
      "Minimizer updated beta: 4\n",
      "Maximizer at depth 0, comparing value: 4 with best: -inf\n",
      "Maximizer updated alpha: 4\n",
      "Minimizer at depth 1, alpha: 4, beta: inf\n",
      "Maximizer at depth 2, alpha: 4, beta: inf\n",
      "Leaf node reached at depth 3, returning value: -3\n",
      "Maximizer at depth 2, comparing value: -3 with best: -inf\n",
      "Maximizer updated alpha: 4\n",
      "Leaf node reached at depth 3, returning value: -5\n",
      "Maximizer at depth 2, comparing value: -5 with best: -3\n",
      "Maximizer updated alpha: 4\n",
      "Minimizer at depth 1, comparing value: -3 with best: inf\n",
      "Minimizer updated beta: -3\n",
      "Pruning at depth 1 with alpha: 4 and beta: -3\n",
      "Maximizer at depth 0, comparing value: -3 with best: 4\n",
      "Maximizer updated alpha: 4\n"
     ]
    }
   ],
   "source": [
    "maxDepth = 3\n",
    "values = [-1, 4, 2, 6, -3, -5, 0, 7]\n",
    "\n",
    "optimalValue = alphabeta(0, 0, True, values, maxDepth, -math.inf, math.inf)"
   ]
  },
  {
   "cell_type": "code",
   "execution_count": 5,
   "id": "ddedab60",
   "metadata": {},
   "outputs": [
    {
     "data": {
      "text/plain": [
       "4"
      ]
     },
     "execution_count": 5,
     "metadata": {},
     "output_type": "execute_result"
    }
   ],
   "source": [
    "optimalValue"
   ]
  }
 ],
 "metadata": {
  "kernelspec": {
   "display_name": "Python 3",
   "language": "python",
   "name": "python3"
  },
  "language_info": {
   "codemirror_mode": {
    "name": "ipython",
    "version": 3
   },
   "file_extension": ".py",
   "mimetype": "text/x-python",
   "name": "python",
   "nbconvert_exporter": "python",
   "pygments_lexer": "ipython3",
   "version": "3.10.12"
  }
 },
 "nbformat": 4,
 "nbformat_minor": 5
}
